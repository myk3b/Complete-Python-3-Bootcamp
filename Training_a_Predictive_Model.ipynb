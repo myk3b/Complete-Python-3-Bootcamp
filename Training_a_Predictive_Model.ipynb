{
  "nbformat": 4,
  "nbformat_minor": 0,
  "metadata": {
    "colab": {
      "name": "Training a Predictive Model.ipynb",
      "provenance": [],
      "collapsed_sections": [],
      "toc_visible": true,
      "include_colab_link": true
    },
    "kernelspec": {
      "name": "python3",
      "display_name": "Python 3"
    }
  },
  "cells": [
    {
      "cell_type": "markdown",
      "metadata": {
        "id": "view-in-github",
        "colab_type": "text"
      },
      "source": [
        "<a href=\"https://colab.research.google.com/github/myk3b/Complete-Python-3-Bootcamp/blob/master/Training_a_Predictive_Model.ipynb\" target=\"_parent\"><img src=\"https://colab.research.google.com/assets/colab-badge.svg\" alt=\"Open In Colab\"/></a>"
      ]
    },
    {
      "cell_type": "markdown",
      "metadata": {
        "id": "fw8Ri2U_X75p"
      },
      "source": [
        "# Welcome to the Abacus.AI Demo Workbook!\n",
        "\n",
        "This workbook provides you all the resources needed to follow up with the demo and use Abacus.AI platform to train your predictive model.\n",
        "\n",
        "For questions or help, please use the Zoom chat or the youtube live stream chat.\n",
        "\n",
        "Prerequisite: [Sign up](https://abacus.ai/app/signup?signupToken=workshop_predmodeling_featureeng) for an account."
      ]
    },
    {
      "cell_type": "markdown",
      "metadata": {
        "id": "__NDm8-bYCqx"
      },
      "source": [
        "# Useful Resources\n",
        "\n",
        "Insurance Dataset - [https://drive.google.com/file/d/1L2EKcSsHpB0EAPAaceKqE30_vYF9MCnJ/view?usp=sharing](https://drive.google.com/file/d/1L2EKcSsHpB0EAPAaceKqE30_vYF9MCnJ/view?usp=sharing)\n",
        "\n",
        "State of Health Dataset - [https://drive.google.com/file/d/1PplzO5Rh8NexYaMOZbt1ff72xienzJf9/view?usp=sharing](https://drive.google.com/file/d/1PplzO5Rh8NexYaMOZbt1ff72xienzJf9/view?usp=sharing)\n",
        "\n",
        "\n",
        "\n",
        "<br />\n",
        "\n",
        "Slides PDF: https://drive.google.com/file/d/1VcloWqYZSmbMi1vV6grg4RDwVnYoG2fj/view?usp=sharing\n",
        "\n",
        "<br />\n",
        "\n",
        "Public Dataset Reference link: https://www.kaggle.com/noordeen/insurance-premium-prediction\n"
      ]
    }
  ]
}